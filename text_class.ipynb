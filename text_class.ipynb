{
 "cells": [
  {
   "cell_type": "code",
   "execution_count": 31,
   "metadata": {},
   "outputs": [],
   "source": [
    "from pathlib import Path\n",
    "from datetime import datetime as dt\n",
    "import pandas as pd"
   ]
  },
  {
   "cell_type": "code",
   "execution_count": 32,
   "metadata": {},
   "outputs": [],
   "source": [
    "#path=\"C:/Users/FUJITSU/Desktop/arabic named entity/ANERCorp.xlsx\"\n"
   ]
  },
  {
   "cell_type": "code",
   "execution_count": 33,
   "metadata": {},
   "outputs": [],
   "source": [
    "#xlsx = pd.ExcelFile(path)"
   ]
  },
  {
   "cell_type": "code",
   "execution_count": 34,
   "metadata": {},
   "outputs": [],
   "source": [
    "df=pd.read_csv(\"UrduNewsHeadlines.csv\", header=None,  sep='\\t', encoding = 'utf-8')"
   ]
  },
  {
   "cell_type": "code",
   "execution_count": 35,
   "metadata": {},
   "outputs": [
    {
     "data": {
      "text/html": [
       "<div>\n",
       "<style scoped>\n",
       "    .dataframe tbody tr th:only-of-type {\n",
       "        vertical-align: middle;\n",
       "    }\n",
       "\n",
       "    .dataframe tbody tr th {\n",
       "        vertical-align: top;\n",
       "    }\n",
       "\n",
       "    .dataframe thead th {\n",
       "        text-align: right;\n",
       "    }\n",
       "</style>\n",
       "<table border=\"1\" class=\"dataframe\">\n",
       "  <thead>\n",
       "    <tr style=\"text-align: right;\">\n",
       "      <th></th>\n",
       "      <th>0</th>\n",
       "      <th>1</th>\n",
       "    </tr>\n",
       "  </thead>\n",
       "  <tbody>\n",
       "    <tr>\n",
       "      <th>0</th>\n",
       "      <td>قومی</td>\n",
       "      <td>وزیراعظم عمران خان نے کل ایسی جگہ جانے کا فیص...</td>\n",
       "    </tr>\n",
       "    <tr>\n",
       "      <th>1</th>\n",
       "      <td>قومی</td>\n",
       "      <td>پاکستان کا یمن کے معاملے پر موثر کردار ادا کر...</td>\n",
       "    </tr>\n",
       "    <tr>\n",
       "      <th>2</th>\n",
       "      <td>قومی</td>\n",
       "      <td>سابق وزیراعظم یوسف رضاگیلانی کے بھانجے کی گاڑ...</td>\n",
       "    </tr>\n",
       "    <tr>\n",
       "      <th>3</th>\n",
       "      <td>قومی</td>\n",
       "      <td>علیم خان کی جائیدادیں ملک سے باہر ، تفصیلات آ...</td>\n",
       "    </tr>\n",
       "    <tr>\n",
       "      <th>4</th>\n",
       "      <td>قومی</td>\n",
       "      <td>سرکاری افسر اکرام نوید نے50کروڑ چرائے اور شہب...</td>\n",
       "    </tr>\n",
       "    <tr>\n",
       "      <th>...</th>\n",
       "      <td>...</td>\n",
       "      <td>...</td>\n",
       "    </tr>\n",
       "    <tr>\n",
       "      <th>2170</th>\n",
       "      <td>افواج</td>\n",
       "      <td>پاک فوج کا زلزلہ متاثرین کے لئے بڑا تحفہ</td>\n",
       "    </tr>\n",
       "    <tr>\n",
       "      <th>2171</th>\n",
       "      <td>افواج</td>\n",
       "      <td>بھارتی آرمی چیف نے بھانڈا پھوڑ دیا</td>\n",
       "    </tr>\n",
       "    <tr>\n",
       "      <th>2172</th>\n",
       "      <td>افواج</td>\n",
       "      <td>پاک چائنا مشترکہ فضائی مشقیں ختم</td>\n",
       "    </tr>\n",
       "    <tr>\n",
       "      <th>2173</th>\n",
       "      <td>افواج</td>\n",
       "      <td>کراچی میں امن بحال، رونقیں لوٹ آئیں</td>\n",
       "    </tr>\n",
       "    <tr>\n",
       "      <th>2174</th>\n",
       "      <td>افواج</td>\n",
       "      <td>آرمی چیف کا نیول اکیڈمی میں پاسنگ آؤٹ پریڈ سے ...</td>\n",
       "    </tr>\n",
       "  </tbody>\n",
       "</table>\n",
       "<p>2175 rows × 2 columns</p>\n",
       "</div>"
      ],
      "text/plain": [
       "          0                                                  1\n",
       "0      قومی   وزیراعظم عمران خان نے کل ایسی جگہ جانے کا فیص...\n",
       "1      قومی   پاکستان کا یمن کے معاملے پر موثر کردار ادا کر...\n",
       "2      قومی   سابق وزیراعظم یوسف رضاگیلانی کے بھانجے کی گاڑ...\n",
       "3      قومی   علیم خان کی جائیدادیں ملک سے باہر ، تفصیلات آ...\n",
       "4      قومی   سرکاری افسر اکرام نوید نے50کروڑ چرائے اور شہب...\n",
       "...     ...                                                ...\n",
       "2170  افواج           پاک فوج کا زلزلہ متاثرین کے لئے بڑا تحفہ\n",
       "2171  افواج                 بھارتی آرمی چیف نے بھانڈا پھوڑ دیا\n",
       "2172  افواج                   پاک چائنا مشترکہ فضائی مشقیں ختم\n",
       "2173  افواج                کراچی میں امن بحال، رونقیں لوٹ آئیں\n",
       "2174  افواج  آرمی چیف کا نیول اکیڈمی میں پاسنگ آؤٹ پریڈ سے ...\n",
       "\n",
       "[2175 rows x 2 columns]"
      ]
     },
     "execution_count": 35,
     "metadata": {},
     "output_type": "execute_result"
    }
   ],
   "source": [
    "df"
   ]
  },
  {
   "cell_type": "code",
   "execution_count": 36,
   "metadata": {},
   "outputs": [],
   "source": [
    "#df = df.drop(2, 1)"
   ]
  },
  {
   "cell_type": "code",
   "execution_count": 37,
   "metadata": {},
   "outputs": [],
   "source": [
    "df = df.rename(columns={0: 'label', 1: 'text'})"
   ]
  },
  {
   "cell_type": "code",
   "execution_count": 38,
   "metadata": {},
   "outputs": [
    {
     "data": {
      "text/html": [
       "<div>\n",
       "<style scoped>\n",
       "    .dataframe tbody tr th:only-of-type {\n",
       "        vertical-align: middle;\n",
       "    }\n",
       "\n",
       "    .dataframe tbody tr th {\n",
       "        vertical-align: top;\n",
       "    }\n",
       "\n",
       "    .dataframe thead th {\n",
       "        text-align: right;\n",
       "    }\n",
       "</style>\n",
       "<table border=\"1\" class=\"dataframe\">\n",
       "  <thead>\n",
       "    <tr style=\"text-align: right;\">\n",
       "      <th></th>\n",
       "      <th>label</th>\n",
       "      <th>text</th>\n",
       "    </tr>\n",
       "  </thead>\n",
       "  <tbody>\n",
       "    <tr>\n",
       "      <th>0</th>\n",
       "      <td>قومی</td>\n",
       "      <td>وزیراعظم عمران خان نے کل ایسی جگہ جانے کا فیص...</td>\n",
       "    </tr>\n",
       "    <tr>\n",
       "      <th>1</th>\n",
       "      <td>قومی</td>\n",
       "      <td>پاکستان کا یمن کے معاملے پر موثر کردار ادا کر...</td>\n",
       "    </tr>\n",
       "    <tr>\n",
       "      <th>2</th>\n",
       "      <td>قومی</td>\n",
       "      <td>سابق وزیراعظم یوسف رضاگیلانی کے بھانجے کی گاڑ...</td>\n",
       "    </tr>\n",
       "    <tr>\n",
       "      <th>3</th>\n",
       "      <td>قومی</td>\n",
       "      <td>علیم خان کی جائیدادیں ملک سے باہر ، تفصیلات آ...</td>\n",
       "    </tr>\n",
       "    <tr>\n",
       "      <th>4</th>\n",
       "      <td>قومی</td>\n",
       "      <td>سرکاری افسر اکرام نوید نے50کروڑ چرائے اور شہب...</td>\n",
       "    </tr>\n",
       "    <tr>\n",
       "      <th>...</th>\n",
       "      <td>...</td>\n",
       "      <td>...</td>\n",
       "    </tr>\n",
       "    <tr>\n",
       "      <th>2170</th>\n",
       "      <td>افواج</td>\n",
       "      <td>پاک فوج کا زلزلہ متاثرین کے لئے بڑا تحفہ</td>\n",
       "    </tr>\n",
       "    <tr>\n",
       "      <th>2171</th>\n",
       "      <td>افواج</td>\n",
       "      <td>بھارتی آرمی چیف نے بھانڈا پھوڑ دیا</td>\n",
       "    </tr>\n",
       "    <tr>\n",
       "      <th>2172</th>\n",
       "      <td>افواج</td>\n",
       "      <td>پاک چائنا مشترکہ فضائی مشقیں ختم</td>\n",
       "    </tr>\n",
       "    <tr>\n",
       "      <th>2173</th>\n",
       "      <td>افواج</td>\n",
       "      <td>کراچی میں امن بحال، رونقیں لوٹ آئیں</td>\n",
       "    </tr>\n",
       "    <tr>\n",
       "      <th>2174</th>\n",
       "      <td>افواج</td>\n",
       "      <td>آرمی چیف کا نیول اکیڈمی میں پاسنگ آؤٹ پریڈ سے ...</td>\n",
       "    </tr>\n",
       "  </tbody>\n",
       "</table>\n",
       "<p>2175 rows × 2 columns</p>\n",
       "</div>"
      ],
      "text/plain": [
       "      label                                               text\n",
       "0      قومی   وزیراعظم عمران خان نے کل ایسی جگہ جانے کا فیص...\n",
       "1      قومی   پاکستان کا یمن کے معاملے پر موثر کردار ادا کر...\n",
       "2      قومی   سابق وزیراعظم یوسف رضاگیلانی کے بھانجے کی گاڑ...\n",
       "3      قومی   علیم خان کی جائیدادیں ملک سے باہر ، تفصیلات آ...\n",
       "4      قومی   سرکاری افسر اکرام نوید نے50کروڑ چرائے اور شہب...\n",
       "...     ...                                                ...\n",
       "2170  افواج           پاک فوج کا زلزلہ متاثرین کے لئے بڑا تحفہ\n",
       "2171  افواج                 بھارتی آرمی چیف نے بھانڈا پھوڑ دیا\n",
       "2172  افواج                   پاک چائنا مشترکہ فضائی مشقیں ختم\n",
       "2173  افواج                کراچی میں امن بحال، رونقیں لوٹ آئیں\n",
       "2174  افواج  آرمی چیف کا نیول اکیڈمی میں پاسنگ آؤٹ پریڈ سے ...\n",
       "\n",
       "[2175 rows x 2 columns]"
      ]
     },
     "execution_count": 38,
     "metadata": {},
     "output_type": "execute_result"
    }
   ],
   "source": [
    "df"
   ]
  },
  {
   "cell_type": "code",
   "execution_count": 39,
   "metadata": {},
   "outputs": [
    {
     "data": {
      "text/plain": [
       "array(['قومی', 'کھیل', 'تفریح', 'بین الاقوامی', 'موسم', 'تعلیم', 'حادثات',\n",
       "       'افواج'], dtype=object)"
      ]
     },
     "execution_count": 39,
     "metadata": {},
     "output_type": "execute_result"
    }
   ],
   "source": [
    "df['label'].unique()"
   ]
  },
  {
   "cell_type": "code",
   "execution_count": 40,
   "metadata": {},
   "outputs": [],
   "source": [
    "from sklearn.model_selection import train_test_split\n",
    "\n",
    "train, test = train_test_split(df, test_size = 0.2)\n",
    "train_arr = []\n",
    "test_arr = []\n",
    "train_lbl = []\n",
    "test_lbl = []"
   ]
  },
  {
   "cell_type": "code",
   "execution_count": 41,
   "metadata": {},
   "outputs": [],
   "source": [
    "train_arr=train['text'].astype(str)\n",
    "train_lbl=train['label'].astype(str)\n",
    "test_arr=test['text'].astype(str)\n",
    "test_lbl=test['label'].astype(str)"
   ]
  },
  {
   "cell_type": "code",
   "execution_count": 42,
   "metadata": {},
   "outputs": [],
   "source": [
    "from sklearn.feature_extraction.text import CountVectorizer, TfidfTransformer,TfidfVectorizer"
   ]
  },
  {
   "cell_type": "code",
   "execution_count": 43,
   "metadata": {},
   "outputs": [],
   "source": [
    "vectorizer = CountVectorizer()\n",
    "vectorizer.fit(train_arr)\n",
    "train_mat = vectorizer.transform(train_arr)"
   ]
  },
  {
   "cell_type": "code",
   "execution_count": 44,
   "metadata": {},
   "outputs": [],
   "source": [
    "import pickle\n",
    "pickle.dump(vectorizer, open(\"vectorizer.pkl\", \"wb\"))"
   ]
  },
  {
   "cell_type": "code",
   "execution_count": 45,
   "metadata": {},
   "outputs": [],
   "source": [
    "tfidf = TfidfTransformer()\n",
    "tfidf.fit(train_mat)\n",
    "train_tfmat = tfidf.transform(train_mat)\n"
   ]
  },
  {
   "cell_type": "code",
   "execution_count": 46,
   "metadata": {},
   "outputs": [],
   "source": [
    "pickle.dump(tfidf, open(\"tfidf.pkl\", \"wb\"))"
   ]
  },
  {
   "cell_type": "code",
   "execution_count": 47,
   "metadata": {},
   "outputs": [],
   "source": [
    "test_mat = vectorizer.transform(test_arr)\n",
    "test_tfmat = tfidf.transform(test_mat)\n"
   ]
  },
  {
   "cell_type": "code",
   "execution_count": 48,
   "metadata": {},
   "outputs": [],
   "source": [
    "del df\n",
    "del test_arr\n",
    "del train_arr"
   ]
  },
  {
   "cell_type": "code",
   "execution_count": 49,
   "metadata": {},
   "outputs": [],
   "source": [
    "from sklearn.naive_bayes import BernoulliNB, GaussianNB, MultinomialNB"
   ]
  },
  {
   "cell_type": "code",
   "execution_count": 50,
   "metadata": {},
   "outputs": [
    {
     "data": {
      "text/plain": [
       "<1740x4342 sparse matrix of type '<class 'numpy.float64'>'\n",
       "\twith 19611 stored elements in Compressed Sparse Row format>"
      ]
     },
     "execution_count": 50,
     "metadata": {},
     "output_type": "execute_result"
    }
   ],
   "source": [
    "train_tfmat"
   ]
  },
  {
   "cell_type": "code",
   "execution_count": 51,
   "metadata": {},
   "outputs": [],
   "source": [
    "from sklearn.svm import LinearSVC"
   ]
  },
  {
   "cell_type": "code",
   "execution_count": 52,
   "metadata": {},
   "outputs": [
    {
     "data": {
      "text/plain": [
       "LinearSVC(C=1.0, class_weight=None, dual=True, fit_intercept=True,\n",
       "          intercept_scaling=1, loss='squared_hinge', max_iter=1000,\n",
       "          multi_class='ovr', penalty='l2', random_state=None, tol=0.0001,\n",
       "          verbose=0)"
      ]
     },
     "execution_count": 52,
     "metadata": {},
     "output_type": "execute_result"
    }
   ],
   "source": [
    "lsvm=LinearSVC()\n",
    "lsvm.fit(train_tfmat,train_lbl)\n"
   ]
  },
  {
   "cell_type": "code",
   "execution_count": 53,
   "metadata": {},
   "outputs": [],
   "source": [
    "y_pred_lsvm=lsvm.predict(test_tfmat)"
   ]
  },
  {
   "cell_type": "code",
   "execution_count": 54,
   "metadata": {},
   "outputs": [],
   "source": [
    "import pickle\n",
    "\n",
    "with open('model.pkl', 'wb') as f:\n",
    "    pickle.dump(lsvm, f)\n",
    "    \n",
    "#with open('crf_mode.pkl', 'wb') as f2:\n",
    "#    pickle,dump(crf,f2)"
   ]
  },
  {
   "cell_type": "code",
   "execution_count": 55,
   "metadata": {},
   "outputs": [],
   "source": [
    "y_pred_lsvm=lsvm.predict(test_tfmat)"
   ]
  },
  {
   "cell_type": "code",
   "execution_count": 59,
   "metadata": {},
   "outputs": [
    {
     "data": {
      "text/plain": [
       "'قومی'"
      ]
     },
     "execution_count": 59,
     "metadata": {},
     "output_type": "execute_result"
    }
   ],
   "source": [
    "test=['فواد چوہدری کی دعوت پر سائنٹفک کمیٹی میں مفتی منیب الرحمن اور مفتی پوپلز ئی شریک نہیں ہوئے، ضد کا ہمارے پاس کوئی علاج نہیں ، فواد چوہدری چاہتے ہیں قوم ایک ہی عید منائے،دو اپریل کو لاہور میں دوسری میٹنگ میں دوبارہ دونوں کو دعوت دی جائے گی، وفاقی وزیر سائنس اینڈ ٹیکنالوجی کا خطاب']\n",
    "test_str = vectorizer.transform(test)\n",
    "test_tfstr = tfidf.transform(test_str)\n",
    "test_tfstr.shape\n",
    "lsvm.predict(test_tfstr.toarray())[0]"
   ]
  },
  {
   "cell_type": "code",
   "execution_count": 57,
   "metadata": {},
   "outputs": [],
   "source": [
    "from sklearn.metrics import  accuracy_score\n",
    "from sklearn import metrics"
   ]
  },
  {
   "cell_type": "code",
   "execution_count": 58,
   "metadata": {},
   "outputs": [
    {
     "name": "stdout",
     "output_type": "stream",
     "text": [
      "accuracy: 0.8574712643678161\n"
     ]
    }
   ],
   "source": [
    "print(\"accuracy:\", metrics.accuracy_score(test_lbl, y_pred_lsvm))"
   ]
  },
  {
   "cell_type": "code",
   "execution_count": 60,
   "metadata": {},
   "outputs": [
    {
     "data": {
      "text/plain": [
       "'کھیل'"
      ]
     },
     "execution_count": 60,
     "metadata": {},
     "output_type": "execute_result"
    }
   ],
   "source": [
    "test=['کرکٹ ہم پاکستانیوں کے ہر درد کا علاج اور ہر غم کا مداوا ہے، بلکہ ہر مسئلے کا حل ہے۔ ملک میں پورا نظام ہلا کر رکھ دینے والا سیاسی بحران ہو، معیشت کا بیڑا غرق ہورہا ہو، منہگائی نے جان عذاب کر رکھی ہو، بدامنی نے خون خشک کر رکھا ہو']\n",
    "test_str = vectorizer.transform(test)\n",
    "test_tfstr = tfidf.transform(test_str)\n",
    "test_tfstr.shape\n",
    "lsvm.predict(test_tfstr.toarray())[0]\n"
   ]
  },
  {
   "cell_type": "code",
   "execution_count": 62,
   "metadata": {},
   "outputs": [
    {
     "data": {
      "text/plain": [
       "'قومی'"
      ]
     },
     "execution_count": 62,
     "metadata": {},
     "output_type": "execute_result"
    }
   ],
   "source": [
    "test=['ڈاکٹر لِی کورونا وائرس کا شکار ہوئے تھے اور اب ایک مقامی ہسپتال نے، جہاں ان کا علاج جاری تھا، ان کی موت کی تصدیق کر دی ہ']\n",
    "test_str = vectorizer.transform(test)\n",
    "test_tfstr = tfidf.transform(test_str)\n",
    "test_tfstr.shape\n",
    "lsvm.predict(test_tfstr.toarray())[0]"
   ]
  },
  {
   "cell_type": "code",
   "execution_count": 63,
   "metadata": {},
   "outputs": [
    {
     "data": {
      "text/plain": [
       "'قومی'"
      ]
     },
     "execution_count": 63,
     "metadata": {},
     "output_type": "execute_result"
    }
   ],
   "source": [
    "test=['معروف مبلغ مولانا طارق جمیل کا کہنا ہے کہ حاکم کا ایک غلط فیصلہ ملک کو تباہ اور صحیح قدم ملک کو بچا سکتا ہے، اس وقت عمران خان حاکم ہیں اور انہیں دعا کی ضرورت ہے']\n",
    "test_str = vectorizer.transform(test)\n",
    "test_tfstr = tfidf.transform(test_str)\n",
    "test_tfstr.shape\n",
    "lsvm.predict(test_tfstr.toarray())[0]"
   ]
  },
  {
   "cell_type": "code",
   "execution_count": 64,
   "metadata": {},
   "outputs": [
    {
     "data": {
      "text/plain": [
       "'بین الاقوامی'"
      ]
     },
     "execution_count": 64,
     "metadata": {},
     "output_type": "execute_result"
    }
   ],
   "source": [
    "test=['امریکہ میں ایک لاکھ سے زیادہ ہلاکتوں کا خدشہ: صحت کے اعلی سرکاری ماہر']\n",
    "test_str = vectorizer.transform(test)\n",
    "test_tfstr = tfidf.transform(test_str)\n",
    "test_tfstr.shape\n",
    "lsvm.predict(test_tfstr.toarray())[0]"
   ]
  },
  {
   "cell_type": "code",
   "execution_count": null,
   "metadata": {},
   "outputs": [],
   "source": []
  }
 ],
 "metadata": {
  "kernelspec": {
   "display_name": "Python 3",
   "language": "python",
   "name": "python3"
  },
  "language_info": {
   "codemirror_mode": {
    "name": "ipython",
    "version": 3
   },
   "file_extension": ".py",
   "mimetype": "text/x-python",
   "name": "python",
   "nbconvert_exporter": "python",
   "pygments_lexer": "ipython3",
   "version": "3.6.10"
  }
 },
 "nbformat": 4,
 "nbformat_minor": 2
}
