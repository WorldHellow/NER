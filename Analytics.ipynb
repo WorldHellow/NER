{
 "cells": [
  {
   "cell_type": "code",
   "execution_count": 35,
   "metadata": {},
   "outputs": [],
   "source": [
    "import os\n",
    "import sys \n",
    "from pathlib import Path\n",
    "from datetime import datetime as dt\n",
    "import pandas as pd\n",
    "import pickle\n",
    "from sklearn.feature_extraction.text import CountVectorizer, TfidfTransformer,TfidfVectorizer\n",
    "import matplotlib\n",
    "import numpy as np\n",
    "import matplotlib.pyplot as plt"
   ]
  },
  {
   "cell_type": "code",
   "execution_count": 2,
   "metadata": {},
   "outputs": [],
   "source": [
    "def speech_to_text():\n",
    "    os.system(\"python2.7 /home/saad/kaldi-gstreamer-server/kaldigstserver/client.py /home/saad/16KhzARY.wav > output.txt \")\n",
    "    with open('output.txt', 'r') as file:\n",
    "            data = file.read().replace('\\n', '')\n",
    "    return data"
   ]
  },
  {
   "cell_type": "code",
   "execution_count": 28,
   "metadata": {},
   "outputs": [],
   "source": [
    "def entity_recognition(phrase):\n",
    "    with open('/home/saad/S2T_NER_TEXT/NER/model.pkl', 'rb') as f:\n",
    "            clf = pickle.load(f)\n",
    "    with open('/home/saad/S2T_NER_TEXT/NER/vectorizer.pkl', 'rb') as f1:\n",
    "        vectorizer = pickle.load(f1)\n",
    "\n",
    "\n",
    "    with open('/home/saad/S2T_NER_TEXT/NER/tfidf.pkl', 'rb') as f1:\n",
    "        tfidf = pickle.load(f1)\n",
    "\n",
    "    arr = phrase.split()\n",
    "\n",
    "    y=[]\n",
    "    token=[]\n",
    "    for x in arr:\n",
    "        x=[x]\n",
    "        test_str = vectorizer.transform(x)\n",
    "        test_tfstr = tfidf.transform(test_str)\n",
    "        test_tfstr.shape\n",
    "        token.append(x)\n",
    "        y.append(clf.predict(test_tfstr.toarray())[0])\n",
    "        \n",
    "        \n",
    "    df=pd.DataFrame(list(zip(token,y)),columns=['token','entity_type'])\n",
    "    df['token'] = df['token'].str[0]\n",
    "\n",
    "    #for i in\n",
    "    df.to_csv(\"Entities.tsv\", sep='\\t')\n",
    "    print (df)\n",
    "    count = df['entity_type'].value_counts() \n",
    "    print(count) \n",
    "    return df"
   ]
  },
  {
   "cell_type": "code",
   "execution_count": 3,
   "metadata": {},
   "outputs": [],
   "source": [
    "#def headline_classification(phrase):\n",
    "with open('/home/saad/S2T_NER_TEXT/headline_classification/model.pkl', 'rb') as f:\n",
    "    clf = pickle.load(f)\n",
    "with open('/home/saad/S2T_NER_TEXT/headline_classification/vectorizer.pkl', 'rb') as f1:\n",
    "    vectorizer = pickle.load(f1)\n",
    "\n",
    "\n",
    "with open('/home/saad/S2T_NER_TEXT/headline_classification/tfidf.pkl', 'rb') as f1:\n",
    "    tfidf = pickle.load(f1)\n",
    "\n"
   ]
  },
  {
   "cell_type": "code",
   "execution_count": 4,
   "metadata": {},
   "outputs": [],
   "source": [
    "from urduhack.tokenization import sentence_tokenizer\n",
    "with open('output.txt', 'r') as file:\n",
    "            text = file.read().replace('\\n', '')\n",
    "        \n",
    "arr = sentence_tokenizer(text)        "
   ]
  },
  {
   "cell_type": "code",
   "execution_count": 5,
   "metadata": {},
   "outputs": [
    {
     "data": {
      "text/plain": [
       "['تاہم بعض کہ کون کرنے میں بعد میں باتوں پر جان نے ثابت کر دے گا۔',\n",
       " 'اس میں خان میں دہشت گردی کی بڑی کوشش ناکام بنادی آئی ایس پی آر کے مطابق کام کے قریب کافی اچھا پر کارروائی کی گئی آپریشن میں دو انتہائی مطلوب دہشت گرد مارے گئے دہشت گردوں. کی فائرنگ سے کرنل مجیب الرحمن نے جام شہادت نوش کیا آپریشن کے دوران بڑی تعداد میں اسلحہ اور مواصلاتی آلات تحویل میں لے لیے گئے ہیں۔',\n",
       " 'کی قیمتوں پر سعودی عرب اور روس میں تجارتی جنگ کا خدشہ ہو گئے اور روس میں تیل کی. پیداوار سے متعلق معاہدہ نہ ہو سکا اور میں منڈی میں تیل کی قیمتوں میں ایک دن میں کاری کی سب سے بڑی کمی خام تیل انتیس فیصد سے زائد سستا ہوگیا سعودی عرب میں اسے آئی اور یورپی منڈیوں کے لیتے کسی ستر تک کر دیا اور تیل کی قیمت میں کمی درآمدی مالک کے لیے فائدہ مند ہے۔',\n",
       " 'معاشی ماہرین. کے مطابق پاکستان کے درآمدی بل میں نمایاں کمی متوقع ہے۔',\n",
       " 'پاکستان کو سالانہ پانچ ارب ڈالر تک کی بچت ہو سکتی ہے. ہے. عالمی منڈی میں خام تیل کی قیمت میں کمی کے بعد ایشیائی ریاست بہار میں مندی پاکستان اسٹاک مارکیٹ لڑکھڑانے کے بعد سنبھل گئی سات سو سے زائد پولیس کے کبھی پندرہ سو سے زائد پولیس کے مدیر کئی مارکیٹ میں چار فیصد کمی کے بعد پنتالیس منٹ کے لیے ریڈیو کی گئی ہے. ہیں۔',\n",
       " 'گلبہار کراچی میں جام حادثات افراد کے مارے نماز جنازہ شکار پور میں ادا کردی گئی ساتوں کا تعلق ایک خاندان سے تھا۔',\n",
       " 'عمارت گرنے سے ستائیس افراد جاں بحق ہوئے عمارت کی تعمیر میں کس قسم کا میں کم از کم عام ہوا. انہیں معرفت کا ایک جو بنانے کی اجازت نہیں دی ہے کہ کاتب کمیٹی تشکیل دوہفتے میں رپورٹ وزیراعلی کو پیش کی جائے. ہیں. نظامت انڈسٹریز کا دوسرا نے والے مسافر وین دریا میں گر گئی اکیس افراد جاں بحق جا سکنے ہوگئے پہلے پچیس مسافر سوار تھے جس کی آپریشن میں بہت سے نہیں لیا. ہے. گرین ٹاؤن لاہور میں گھر سے باہر اور دین بچوں کی لاشیں ملی ہیں۔',\n",
       " 'چاروں صوبائی کرکے قتل کیا گیا مقتولین کی شناخت کے ساتھ ابوذر آخرکار حسنا کے نام سے ہوئی پولیس کا کہنا ہے۔',\n",
       " 'واقعہ ذاتی دشمنی کا نتیجہ لگتا ہے۔',\n",
       " 'وزیراعلی نے وعدہ کر ہوتے تھے یا کسی بھی اس رپورٹ طلب ملزمان کی. ادارے کا ہیں۔',\n",
       " 'کو صفر کے کریں کیلئے استعمال کیا جا رہا ہے۔',\n",
       " 'کا ایک ہی طریقہ ہے کہ لوگوں کو بدنام کیا جائے نیب نے ملک کو مفلوج اور معیشت کو تباہ کر دیا اسی پر عدالت قائم شاہد خاقان کی گولہ باری کا ہم نہیں آئی سے متعلق ایسا یہ. کام نہیں کرسکتا حکومت مہنگائی کنٹرول کرنے میں ناکام ہوگئی میں دائر پر پارلیمانی کمیٹی تشکیل دی جائے ایسا عدالت نے این جی ریفرنس کی سماعت کے کرنے پر تک ملتوی کردی ہے.']"
      ]
     },
     "execution_count": 5,
     "metadata": {},
     "output_type": "execute_result"
    }
   ],
   "source": [
    "arr"
   ]
  },
  {
   "cell_type": "code",
   "execution_count": 23,
   "metadata": {},
   "outputs": [
    {
     "name": "stdout",
     "output_type": "stream",
     "text": [
      "                                             sentence      category\n",
      "0   [تاہم بعض کہ کون کرنے میں بعد میں باتوں پر جان...  بین الاقوامی\n",
      "1   [اس میں خان میں دہشت گردی کی بڑی کوشش ناکام بن...  بین الاقوامی\n",
      "2   [کی قیمتوں پر سعودی عرب اور روس میں تجارتی جنگ...  بین الاقوامی\n",
      "3   [معاشی ماہرین. کے مطابق پاکستان کے درآمدی بل م...          قومی\n",
      "4   [پاکستان کو سالانہ پانچ ارب ڈالر تک کی بچت ہو ...          قومی\n",
      "5   [گلبہار کراچی میں جام حادثات افراد کے مارے نما...        حادثات\n",
      "6   [عمارت گرنے سے ستائیس افراد جاں بحق ہوئے عمارت...          قومی\n",
      "7   [چاروں صوبائی کرکے قتل کیا گیا مقتولین کی شناخ...          قومی\n",
      "8                [واقعہ ذاتی دشمنی کا نتیجہ لگتا ہے۔]  بین الاقوامی\n",
      "9   [وزیراعلی نے وعدہ کر ہوتے تھے یا کسی بھی اس رپ...          قومی\n",
      "10      [کو صفر کے کریں کیلئے استعمال کیا جا رہا ہے۔]          قومی\n",
      "11  [کا ایک ہی طریقہ ہے کہ لوگوں کو بدنام کیا جائے...          قومی\n"
     ]
    }
   ],
   "source": [
    "y=[]\n",
    "sentence=[]\n",
    "for x in arr:\n",
    "    x=[x]\n",
    "    test_str = vectorizer.transform(x)\n",
    "    test_tfstr = tfidf.transform(test_str)\n",
    "    test_tfstr.shape\n",
    "    sentence.append(x)\n",
    "    y.append(clf.predict(test_tfstr.toarray())[0])\n",
    "df1=pd.DataFrame(list(zip(sentence,y)),columns=['sentence','category'])\n",
    "#df1.to_csv(\"Output.tsv\", sep='\\t')\n",
    "print (df1)"
   ]
  },
  {
   "cell_type": "code",
   "execution_count": 24,
   "metadata": {},
   "outputs": [],
   "source": [
    "#text = speech_to_text()"
   ]
  },
  {
   "cell_type": "code",
   "execution_count": 49,
   "metadata": {},
   "outputs": [],
   "source": [
    "#print (type(df1.loc[0, 'sentence']))\n",
    "\n",
    "df1['sentence'] = df1['sentence'].str[0]"
   ]
  },
  {
   "cell_type": "code",
   "execution_count": 50,
   "metadata": {},
   "outputs": [],
   "source": [
    "df1.to_csv(\"headline_output.tsv\", sep='\\t')"
   ]
  },
  {
   "cell_type": "code",
   "execution_count": 30,
   "metadata": {},
   "outputs": [
    {
     "name": "stdout",
     "output_type": "stream",
     "text": [
      "     token entity_type\n",
      "0     تاہم       Other\n",
      "1      بعض       Other\n",
      "2       کہ       Other\n",
      "3      کون       Other\n",
      "4     کرنے       Other\n",
      "..     ...         ...\n",
      "478     پر       Other\n",
      "479     تک       Other\n",
      "480  ملتوی       Other\n",
      "481   کردی       Other\n",
      "482    ہے.       Other\n",
      "\n",
      "[483 rows x 2 columns]\n",
      "Other           458\n",
      "Location         17\n",
      "Person            7\n",
      "Organization      1\n",
      "Name: entity_type, dtype: int64\n"
     ]
    }
   ],
   "source": [
    "with open('output.txt', 'r') as file:\n",
    "            data = file.read().replace('\\n', '')\n",
    "\n",
    "df2 = entity_recognition(data)"
   ]
  },
  {
   "cell_type": "code",
   "execution_count": 34,
   "metadata": {},
   "outputs": [
    {
     "name": "stdout",
     "output_type": "stream",
     "text": [
      "483\n"
     ]
    }
   ],
   "source": [
    "#number of rows\n",
    "count_row = df2.shape[0]  \n",
    "print (count_row)"
   ]
  },
  {
   "cell_type": "code",
   "execution_count": 37,
   "metadata": {},
   "outputs": [
    {
     "data": {
      "text/plain": [
       "Other           458\n",
       "Location         17\n",
       "Person            7\n",
       "Organization      1\n",
       "Name: entity_type, dtype: int64"
      ]
     },
     "execution_count": 37,
     "metadata": {},
     "output_type": "execute_result"
    }
   ],
   "source": [
    "df_stat"
   ]
  },
  {
   "cell_type": "code",
   "execution_count": 42,
   "metadata": {},
   "outputs": [],
   "source": [
    "df_stat = pd.DataFrame(df_stat,columns=['token','frequency'])"
   ]
  },
  {
   "cell_type": "code",
   "execution_count": 45,
   "metadata": {},
   "outputs": [],
   "source": [
    "df_stat = (df2['entity_type'].value_counts())"
   ]
  },
  {
   "cell_type": "code",
   "execution_count": 46,
   "metadata": {},
   "outputs": [
    {
     "data": {
      "text/plain": [
       "Other           458\n",
       "Location         17\n",
       "Person            7\n",
       "Organization      1\n",
       "Name: entity_type, dtype: int64"
      ]
     },
     "execution_count": 46,
     "metadata": {},
     "output_type": "execute_result"
    }
   ],
   "source": [
    "df_stat"
   ]
  },
  {
   "cell_type": "code",
   "execution_count": 54,
   "metadata": {},
   "outputs": [
    {
     "data": {
      "text/plain": [
       "Text(0.5, 0, 'entity')"
      ]
     },
     "execution_count": 54,
     "metadata": {},
     "output_type": "execute_result"
    },
    {
     "data": {
      "image/png": "[encoded data removed]",
      "text/plain": [
       "<Figure size 576x360 with 1 Axes>"
      ]
     },
     "metadata": {
      "needs_background": "light"
     },
     "output_type": "display_data"
    }
   ],
   "source": [
    "df_stat.plot(x='entity', y='frequency', kind='bar', legend=False, grid=True, figsize=(8, 5))\n",
    "plt.title(\"Number of occurences of each entity\")\n",
    "plt.ylabel('# of Occurrences', fontsize=12)\n",
    "plt.xlabel('entity', fontsize=12)"
   ]
  },
  {
   "cell_type": "code",
   "execution_count": 52,
   "metadata": {},
   "outputs": [],
   "source": [
    "df1_stat = (df1['category'].value_counts())"
   ]
  },
  {
   "cell_type": "code",
   "execution_count": 53,
   "metadata": {},
   "outputs": [
    {
     "data": {
      "text/plain": [
       "قومی            7\n",
       "بین الاقوامی    4\n",
       "حادثات          1\n",
       "Name: category, dtype: int64"
      ]
     },
     "execution_count": 53,
     "metadata": {},
     "output_type": "execute_result"
    }
   ],
   "source": [
    "df1_stat"
   ]
  },
  {
   "cell_type": "code",
   "execution_count": 56,
   "metadata": {},
   "outputs": [
    {
     "data": {
      "text/plain": [
       "Text(0.5, 0, 'Category')"
      ]
     },
     "execution_count": 56,
     "metadata": {},
     "output_type": "execute_result"
    },
    {
     "data": {
      "image/png": "[encoded data removed]",
      "text/plain": [
       "<Figure size 720x504 with 1 Axes>"
      ]
     },
     "metadata": {
      "needs_background": "light"
     },
     "output_type": "display_data"
    }
   ],
   "source": [
    "df1_stat.plot(x='Category', y='frequency', kind='bar', legend=False, grid=True, figsize=(10, 7))\n",
    "plt.title(\"Frequency of types of headlines\")\n",
    "plt.ylabel('# of Occurrences', fontsize=12)\n",
    "plt.xlabel('Category', fontsize=12)"
   ]
  },
  {
   "cell_type": "code",
   "execution_count": null,
   "metadata": {},
   "outputs": [],
   "source": []
  }
 ],
 "metadata": {
  "kernelspec": {
   "display_name": "Python 3",
   "language": "python",
   "name": "python3"
  },
  "language_info": {
   "codemirror_mode": {
    "name": "ipython",
    "version": 3
   },
   "file_extension": ".py",
   "mimetype": "text/x-python",
   "name": "python",
   "nbconvert_exporter": "python",
   "pygments_lexer": "ipython3",
   "version": "3.6.10"
  }
 },
 "nbformat": 4,
 "nbformat_minor": 4
}
